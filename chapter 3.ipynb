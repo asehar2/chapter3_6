{
 "cells": [
  {
   "cell_type": "code",
   "execution_count": 1,
   "id": "4ff0dc46",
   "metadata": {},
   "outputs": [
    {
     "name": "stdout",
     "output_type": "stream",
     "text": [
      "smaller\n",
      "finis\n"
     ]
    }
   ],
   "source": [
    "x=5\n",
    "if x<10:\n",
    "    print('smaller')\n",
    "if x>20:\n",
    "    print('Greater')\n",
    "\n",
    "print('finis')"
   ]
  },
  {
   "cell_type": "code",
   "execution_count": 2,
   "id": "351b200c",
   "metadata": {},
   "outputs": [
    {
     "name": "stdout",
     "output_type": "stream",
     "text": [
      "Equals 5\n",
      "greater then 4\n",
      "Greater then or equal to 5\n",
      "less then 6\n",
      "less then or equal to 5\n",
      "not equal to 6\n"
     ]
    }
   ],
   "source": [
    "x=5\n",
    "if x==5:\n",
    "    print('Equals 5')\n",
    "if x>4:\n",
    "    print('greater then 4')\n",
    "if x>=5:\n",
    "    print('Greater then or equal to 5')\n",
    "if x<6:\n",
    "    print('less then 6')\n",
    "if x<=5:\n",
    "    print('less then or equal to 5')\n",
    "if x!=6:\n",
    "    print('not equal to 6')\n",
    "    \n",
    "    \n",
    "    "
   ]
  },
  {
   "cell_type": "code",
   "execution_count": 3,
   "id": "f2eb322f",
   "metadata": {},
   "outputs": [
    {
     "name": "stdout",
     "output_type": "stream",
     "text": [
      "Before 5\n",
      "Is 5\n",
      "Is still 5\n",
      "Third 5\n",
      "Afterwards 5\n",
      "Before 6\n",
      "Afterwards 6\n"
     ]
    }
   ],
   "source": [
    "x=5\n",
    "print('Before 5')\n",
    "if x==5:\n",
    "    print('Is 5')\n",
    "    print('Is still 5')\n",
    "    print('Third 5')\n",
    "print('Afterwards 5')\n",
    "print('Before 6')\n",
    "if x==6:\n",
    "    print('Is 6')\n",
    "    print('Is still 6')\n",
    "    print('Third 6')\n",
    "print('Afterwards 6')"
   ]
  },
  {
   "cell_type": "code",
   "execution_count": 4,
   "id": "b12594b7",
   "metadata": {},
   "outputs": [
    {
     "name": "stdout",
     "output_type": "stream",
     "text": [
      "Bigger then 2\n",
      "Still bigger\n",
      "Done with 2\n",
      "0\n",
      "Done with i 0\n",
      "1\n",
      "Done with i 1\n",
      "2\n",
      "Done with i 2\n",
      "3\n",
      "Bigger then 2\n",
      "Done with i 3\n",
      "4\n",
      "Bigger then 2\n",
      "Done with i 4\n",
      "All done\n"
     ]
    }
   ],
   "source": [
    "x=5\n",
    "if x>2:\n",
    "    print('Bigger then 2')\n",
    "    print('Still bigger')\n",
    "print('Done with 2')\n",
    "for i in range(5):\n",
    "    print(i)\n",
    "    if i>2:\n",
    "        print('Bigger then 2')\n",
    "    print('Done with i',i)\n",
    "print('All done')"
   ]
  },
  {
   "cell_type": "code",
   "execution_count": 5,
   "id": "02cb2ee6",
   "metadata": {},
   "outputs": [
    {
     "name": "stdout",
     "output_type": "stream",
     "text": [
      "more then one\n",
      "less then 100\n",
      "All done\n"
     ]
    }
   ],
   "source": [
    "x=42\n",
    "if x>1:\n",
    "    print('more then one')\n",
    "    if x<100:\n",
    "        print('less then 100')\n",
    "print('All done')"
   ]
  },
  {
   "cell_type": "code",
   "execution_count": 6,
   "id": "a019a7f7",
   "metadata": {},
   "outputs": [
    {
     "name": "stdout",
     "output_type": "stream",
     "text": [
      "Bigger\n",
      "All done\n"
     ]
    }
   ],
   "source": [
    "x=4\n",
    "if x>2:\n",
    "    print('Bigger')\n",
    "else:\n",
    "    print('Smaller')\n",
    "print('All done')"
   ]
  },
  {
   "cell_type": "code",
   "execution_count": 7,
   "id": "6e7f6143",
   "metadata": {},
   "outputs": [
    {
     "name": "stdout",
     "output_type": "stream",
     "text": [
      "smaller\n",
      "All done\n"
     ]
    }
   ],
   "source": [
    "x=0\n",
    "if x<2:\n",
    "    print('smaller')\n",
    "elif x<10:\n",
    "    print('Medium')\n",
    "else :\n",
    "    print('Large')\n",
    "print('All done')"
   ]
  },
  {
   "cell_type": "code",
   "execution_count": 8,
   "id": "798580c1",
   "metadata": {},
   "outputs": [
    {
     "name": "stdout",
     "output_type": "stream",
     "text": [
      "Medium\n",
      "All done\n"
     ]
    }
   ],
   "source": [
    "x=5\n",
    "if x<2:\n",
    "    print('Smaller')\n",
    "elif x<10:\n",
    "    print('Medium')\n",
    "else:\n",
    "    print('large')\n",
    "print('All done')"
   ]
  },
  {
   "cell_type": "code",
   "execution_count": 9,
   "id": "880dd8f3",
   "metadata": {},
   "outputs": [
    {
     "name": "stdout",
     "output_type": "stream",
     "text": [
      "Large\n",
      "All done\n"
     ]
    }
   ],
   "source": [
    "x=20\n",
    "if x<2:\n",
    "    print('smaller')\n",
    "elif x<10:\n",
    "    print('Medium')\n",
    "else:\n",
    "    print('Large')\n",
    "print('All done')"
   ]
  },
  {
   "cell_type": "code",
   "execution_count": 11,
   "id": "bd99a39a",
   "metadata": {},
   "outputs": [
    {
     "name": "stdout",
     "output_type": "stream",
     "text": [
      "Medium\n",
      "All done\n"
     ]
    }
   ],
   "source": [
    "x=5\n",
    "if x<2:\n",
    "    print('Smaller')\n",
    "elif x<10:\n",
    "    print('Medium')\n",
    "elif x<20:\n",
    "    print('Big')\n",
    "elif x<40:\n",
    "    print('large')\n",
    "elif x<100:\n",
    "    print('huge')\n",
    "else:\n",
    "    print('Ginormous')\n",
    "print('All done')"
   ]
  },
  {
   "cell_type": "raw",
   "id": "3f34e1c3",
   "metadata": {},
   "source": []
  },
  {
   "cell_type": "code",
   "execution_count": 12,
   "id": "ec780a07",
   "metadata": {},
   "outputs": [
    {
     "ename": "ValueError",
     "evalue": "invalid literal for int() with base 10: 'Hello Bob'",
     "output_type": "error",
     "traceback": [
      "\u001b[1;31m---------------------------------------------------------------------------\u001b[0m",
      "\u001b[1;31mValueError\u001b[0m                                Traceback (most recent call last)",
      "Cell \u001b[1;32mIn[12], line 2\u001b[0m\n\u001b[0;32m      1\u001b[0m astr \u001b[38;5;241m=\u001b[39m \u001b[38;5;124m'\u001b[39m\u001b[38;5;124mHello Bob\u001b[39m\u001b[38;5;124m'\u001b[39m\n\u001b[1;32m----> 2\u001b[0m istr \u001b[38;5;241m=\u001b[39m \u001b[38;5;28mint\u001b[39m(astr)\n\u001b[0;32m      3\u001b[0m \u001b[38;5;28mprint\u001b[39m(\u001b[38;5;124m'\u001b[39m\u001b[38;5;124mFirst\u001b[39m\u001b[38;5;124m'\u001b[39m,astr)\n\u001b[0;32m      4\u001b[0m astr \u001b[38;5;241m=\u001b[39m \u001b[38;5;124m'\u001b[39m\u001b[38;5;124m123\u001b[39m\u001b[38;5;124m'\u001b[39m\n",
      "\u001b[1;31mValueError\u001b[0m: invalid literal for int() with base 10: 'Hello Bob'"
     ]
    }
   ],
   "source": [
    "astr = 'Hello Bob'\n",
    "istr = int(astr)\n",
    "print('First',astr)\n",
    "astr = '123'\n",
    "istr = int(astr)\n",
    "print('second', istr)"
   ]
  },
  {
   "cell_type": "code",
   "execution_count": 14,
   "id": "3f67779c",
   "metadata": {},
   "outputs": [
    {
     "name": "stdout",
     "output_type": "stream",
     "text": [
      "first -1\n",
      "Second -1\n"
     ]
    }
   ],
   "source": [
    "astr = 'Hello bob'\n",
    "try:\n",
    "    istr = int(astr)\n",
    "except:\n",
    "    istr = -1\n",
    "print('first',istr)\n",
    "astr = '123'\n",
    "try:\n",
    "    istr = int('astr')\n",
    "except:\n",
    "    istr = -1\n",
    "print('Second',istr)"
   ]
  },
  {
   "cell_type": "code",
   "execution_count": 15,
   "id": "b148f49a",
   "metadata": {},
   "outputs": [
    {
     "name": "stdout",
     "output_type": "stream",
     "text": [
      "Enter the number54\n",
      "nice work\n"
     ]
    }
   ],
   "source": [
    "rawstr = input('Enter the number')\n",
    "try:\n",
    "    ival = int(rawstr)\n",
    "    \n",
    "except:\n",
    "    ival = -1\n",
    "if ival>0:\n",
    "    print('nice work')\n",
    "else:\n",
    "    print('not a number')\n"
   ]
  },
  {
   "cell_type": "code",
   "execution_count": null,
   "id": "244fdd70",
   "metadata": {},
   "outputs": [],
   "source": []
  }
 ],
 "metadata": {
  "kernelspec": {
   "display_name": "Python 3 (ipykernel)",
   "language": "python",
   "name": "python3"
  },
  "language_info": {
   "codemirror_mode": {
    "name": "ipython",
    "version": 3
   },
   "file_extension": ".py",
   "mimetype": "text/x-python",
   "name": "python",
   "nbconvert_exporter": "python",
   "pygments_lexer": "ipython3",
   "version": "3.11.4"
  }
 },
 "nbformat": 4,
 "nbformat_minor": 5
}
